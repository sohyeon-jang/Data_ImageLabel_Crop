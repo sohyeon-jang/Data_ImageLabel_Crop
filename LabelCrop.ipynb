{
  "nbformat": 4,
  "nbformat_minor": 0,
  "metadata": {
    "colab": {
      "name": "LabelCrop.ipynb",
      "provenance": [],
      "collapsed_sections": []
    },
    "kernelspec": {
      "name": "python3",
      "display_name": "Python 3"
    },
    "language_info": {
      "name": "python"
    },
    "gpuClass": "standard",
    "accelerator": "GPU"
  },
  "cells": [
    {
      "cell_type": "code",
      "execution_count": null,
      "metadata": {
        "colab": {
          "base_uri": "https://localhost:8080/"
        },
        "id": "1dqqJBQRaUlH",
        "outputId": "abd3638d-dd1b-4251-c2b9-e9bb3da12242"
      },
      "outputs": [
        {
          "output_type": "stream",
          "name": "stdout",
          "text": [
            "Mounted at /content/drive\n"
          ]
        }
      ],
      "source": [
        "from google.colab import drive\n",
        "drive.mount('/content/drive')"
      ]
    },
    {
      "cell_type": "code",
      "source": [
        "import json\n",
        "import os \n",
        "import os.path\n",
        "import glob\n",
        "from PIL import Image\n",
        "\n",
        "\n",
        "# data_sample 주소 입력\n",
        "path = 'C:/Users/user/Desktop/wkit/data_sample' \n",
        "\n",
        "file_list1 = os.listdir(path)\n",
        "\n",
        "i = 0\n",
        "\n",
        "# file_list1 -> ['falldown_79_6255', 'falldown_324_8154', 'falldown_407_6980']\n",
        "# file_list2[0] -> ['rgb']\n",
        "# len(file_list1) -> 3\n",
        "\n",
        "\n",
        "\n",
        "while i < ((len(file_list1))):\n",
        "\n",
        "  second_path = f\"{path}/{file_list1[i]}\"\n",
        "  if os.path.isdir(f'{path}/{file_list1[i]}') == False:\n",
        "    i += 1 \n",
        "    continue\n",
        "\n",
        "  file_list2 = os.listdir(second_path)\n",
        "\n",
        "  rgb_path = f\"{path}/{file_list1[i]}/{file_list2[0]}\"\n",
        "  # print(rgb_path)\n",
        "\n",
        "  \n",
        "  json_path = glob.glob(f\"{rgb_path}/*.json\", recursive=True)\n",
        "  # print(json_path)\n",
        "\n",
        "  # result 폴더 만들기\n",
        "  result_folder = f'{second_path}/result'\n",
        "\n",
        "  if not os.path.isdir(result_folder):\n",
        "    os.mkdir(result_folder)\n",
        "\n",
        "\n",
        "  # JSON 파일, PNG파일\n",
        "\n",
        "  num = 1 # 파일이름위한변수\n",
        "\n",
        "  while num <= (len(json_path)):\n",
        "\n",
        "      with open(f\"{rgb_path}/{num}.json\" , \"r\", encoding=\"utf8\") as f:\n",
        "          contents = f.read()\n",
        "          json_data = json.loads(contents) # JSON 파일\n",
        "\n",
        "\n",
        "      image = Image.open(f\"{rgb_path}/{num}.png\") # PNG파일\n",
        "\n",
        "\n",
        "      x = 0 # label 이름 출력 위한 변수\n",
        "      \n",
        "\n",
        "      while x < (len(json_data[\"shapes\"])):\n",
        "\n",
        "          labelname = json_data[\"shapes\"][x][\"label\"] # Label 이름\n",
        "          \n",
        "          print(num,\".json파일의\", x+1, \"번째 레이블 출력 : \", labelname)\n",
        "\n",
        "          point1 = json_data[\"shapes\"][x][\"points\"][0][0]\n",
        "          point2 = json_data[\"shapes\"][x][\"points\"][0][1]\n",
        "          point3 = json_data[\"shapes\"][x][\"points\"][1][0]\n",
        "          point4 = json_data[\"shapes\"][x][\"points\"][1][1]\n",
        "\n",
        "\n",
        "          if(point1 > point3):\n",
        "            point1 = json_data[\"shapes\"][x][\"points\"][1][0]\n",
        "            point3 = json_data[\"shapes\"][x][\"points\"][0][0]\n",
        "\n",
        "          if(point2 > point4):\n",
        "            point2 = json_data[\"shapes\"][x][\"points\"][1][1]\n",
        "            point4 = json_data[\"shapes\"][x][\"points\"][0][1]\n",
        "\n",
        "          croppedImage=image.crop((\n",
        "              point1, point2, point3, point4\n",
        "          ))\n",
        "\n",
        "\n",
        "          label_folder = f'{result_folder}/{labelname}' # label이름으로 디렉토리 생성\n",
        "\n",
        "          if not os.path.isdir(label_folder):\n",
        "            os.mkdir(label_folder)\n",
        "\n",
        "          if labelname == {labelname}:\n",
        "            label_folder = f'{label_folder}'\n",
        "\n",
        "          croppedImage.save(f'{label_folder}/{num}_{labelname}{x+1}.PNG')\n",
        "\n",
        "          x += 1\n",
        "              \n",
        "      num += 1\n",
        "\n",
        "  i += 1"
      ],
      "metadata": {
        "id": "0q2j_Sp7up_0"
      },
      "execution_count": null,
      "outputs": []
    }
  ]
}